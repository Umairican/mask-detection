{
 "cells": [
  {
   "cell_type": "markdown",
   "id": "3f191cdc",
   "metadata": {},
   "source": [
    "Change photo sizes before uploading them to Drive"
   ]
  },
  {
   "cell_type": "code",
   "execution_count": 1,
   "id": "ff189fe8",
   "metadata": {},
   "outputs": [],
   "source": [
    "from PIL import Image\n",
    "import os, sys\n",
    "import zipfile"
   ]
  },
  {
   "cell_type": "code",
   "execution_count": 25,
   "id": "5a783722",
   "metadata": {},
   "outputs": [],
   "source": [
    "# path = folder location\n",
    "folder_list = ['04000', '05000', '06000',\n",
    "           '09000', '10000', '11000',\n",
    "           '13000', '14000', '15000']"
   ]
  },
  {
   "cell_type": "code",
   "execution_count": null,
   "id": "b5ce39ca",
   "metadata": {
    "tags": []
   },
   "outputs": [],
   "source": [
    "#folder_list=['09000/']\n",
    "data_dir = \"../mask_data/\"\n",
    "\n",
    "#print(dirs)\n",
    "def resize(path):\n",
    "    dirs = os.listdir( path )\n",
    "    #print(dirs[0])\n",
    "    for item in dirs:\n",
    "        if os.path.isfile(path+item):\n",
    "            im = Image.open(path+item)\n",
    "            f, e = os.path.splitext(path+item)\n",
    "            #print('2', f)\n",
    "            #print('3', e)\n",
    "            imResize = im.resize((256,256), Image.ANTIALIAS)\n",
    "            imResize.save(f + '.jpg', 'JPEG', quality=72)\n",
    "            #print('resized image: ', f)\n",
    "            if e == '.png':\n",
    "                #print('deleted image:', f+e)\n",
    "                os.remove(f+e)\n",
    "\n",
    "for folder in folder_list:\n",
    "    path = data_dir + folder\n",
    "    resize(path)\n",
    "    print('finished with: ', path)"
   ]
  },
  {
   "cell_type": "code",
   "execution_count": 28,
   "id": "a3c974ad",
   "metadata": {},
   "outputs": [
    {
     "name": "stdout",
     "output_type": "stream",
     "text": [
      "../processed_data/04000.zip\n",
      "../mask_data/04000/\n",
      "../processed_data/05000.zip\n",
      "../mask_data/05000/\n",
      "../processed_data/06000.zip\n",
      "../mask_data/06000/\n",
      "../processed_data/09000.zip\n",
      "../mask_data/09000/\n",
      "../processed_data/10000.zip\n",
      "../mask_data/10000/\n",
      "../processed_data/11000.zip\n",
      "../mask_data/11000/\n",
      "../processed_data/13000.zip\n",
      "../mask_data/13000/\n",
      "../processed_data/14000.zip\n",
      "../mask_data/14000/\n",
      "../processed_data/15000.zip\n",
      "../mask_data/15000/\n"
     ]
    }
   ],
   "source": [
    "processed_dir = '../processed_data/'\n",
    "#folder_list=['09000']\n",
    "path = data_dir + '09000'\n",
    "#print(path)\n",
    "\n",
    "for folder in folder_list:\n",
    "    path = data_dir + folder +'/'\n",
    "    save_path = processed_dir + folder + '.zip'\n",
    "    #print(save_path)\n",
    "    #print(path)\n",
    "\n",
    "    zipf = zipfile.ZipFile(save_path, 'w', zipfile.ZIP_DEFLATED)\n",
    "    zipdir(path, zipf)\n",
    "    zipf.close()"
   ]
  }
 ],
 "metadata": {
  "kernelspec": {
   "display_name": "Python 3",
   "language": "python",
   "name": "python3"
  },
  "language_info": {
   "codemirror_mode": {
    "name": "ipython",
    "version": 3
   },
   "file_extension": ".py",
   "mimetype": "text/x-python",
   "name": "python",
   "nbconvert_exporter": "python",
   "pygments_lexer": "ipython3",
   "version": "3.8.8"
  }
 },
 "nbformat": 4,
 "nbformat_minor": 5
}
